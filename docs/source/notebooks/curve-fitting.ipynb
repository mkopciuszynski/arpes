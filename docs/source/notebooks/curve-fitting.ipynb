{
 "cells": [
  {
   "cell_type": "markdown",
   "id": "0",
   "metadata": {},
   "source": [
    "# Curve Fitting in PyARPES\n",
    "\n",
    "## Why curve fit\n",
    "\n",
    "Curve fitting is an extremely important technique in angle resolved-photoemission because it provides a coherent way of dealing with noisy data, it allows for simple treatment of backgrounds, it avoids painful questions of interpretation inherent with some techniques, and it grants access to the rich information ARPES provides of the single particle spectral function.\n",
    "\n",
    "## Simple curve fitting\n",
    "\n",
    "PyARPES uses `lmfit` in order to provide a user friendly, compositional API for curve fitting. This allows users to define more complicated models using operators like `+` and `*`, but also makes the process of curve fitting transparent and simple.\n",
    "\n",
    "Here we will prepare an EDC with a step edge, and fit it with a linear density of states multiplied by the Fermi distribution and convolved with Gaussian instrumental broadening (`AffineBroadenedFD`). From Ver. 5.0 of PyARPES, we use xarray-lmfit package, which provides an xarray compatible and unitful fitting function. By this change, the coordinate must be specified explicitly.  While one may feel that it many be not elegant, we believe that it follows Zen of python \"Explicit is better than implicit\". And reagardless the dimension of the data, we can take the same procedure for fitting. And if you experienced lmfit, the operation process quite easy to understand. Use S.modelfit instead of fit function as follows."
   ]
  },
  {
   "cell_type": "code",
   "execution_count": null,
   "id": "1",
   "metadata": {},
   "outputs": [],
   "source": [
    "import arpes\n",
    "# first let's prepare some data to curve fit\n",
    "from arpes.io import example_data\n",
    "\n",
    "test_edc = (\n",
    "    example_data.temperature_dependence.spectrum.sel(eV=slice(-0.15, None))\n",
    "    .sum(\"phi\")\n",
    "    .isel(temperature=0)\n",
    ")\n",
    "\n",
    "test_edc.plot()"
   ]
  },
  {
   "cell_type": "markdown",
   "id": "2",
   "metadata": {},
   "source": [
    "Now, let's fit this data with a broadened edge."
   ]
  },
  {
   "cell_type": "code",
   "execution_count": null,
   "id": "3",
   "metadata": {},
   "outputs": [],
   "source": [
    "from lmfit.models import ConstantModel\n",
    "from arpes.fits.fit_models import AffineBroadenedFD\n",
    "\n",
    "affine_model = AffineBroadenedFD()\n",
    "params = affine_model.guess(test_edc, test_edc.coords[\"eV\"])\n",
    "model = affine_model + ConstantModel()\n",
    "result = test_edc.S.modelfit(\"eV\", model, params=params)\n",
    "\n",
    "\n",
    "result.modelfit_results.item().plot()  # plot the fit, residual, etc\n",
    "result.modelfit_results.item()  # print parameters and info"
   ]
  },
  {
   "cell_type": "markdown",
   "id": "4",
   "metadata": {},
   "source": [
    "Empirically, we have a very good fit. One thing it is good to know about resolution convolved edges is that there are two width parameters: `width` and `sigma`. These are the intrinsic edge width caused by thermally excited carriers in the Fermi-Dirac distribution and a broadening which affects the entire spectrum due to instrumental effects, respectively.\n",
    "\n",
    "Because these can have nearly degenerate effects if you have only a single edge with no peak, you may want to set one parameter or another to an appropriate value based on known experimental conditions.\n",
    "\n",
    "From your analyzer settings and photon linewidth, you may know your resolution broadening, while from the temperature you may know the intrinsic edge width.\n",
    "\n",
    "Before moving on, the tabular representations of parameters above was produced by letting the cell output be `result`."
   ]
  },
  {
   "cell_type": "markdown",
   "id": "5",
   "metadata": {},
   "source": [
    "## Influencing the fit by setting parameters\n",
    "\n",
    "Using the `params=` keyword you can provide initial guess with `value`, enforce a `max` or `min`, and request that a parameter be allowed to `vary` or not. In this case, we will force a fit with the step edge at 10 millivolts, obtaining a substantially worse result.\n",
    "\n",
    "Let's fit again but request that the step edge must be found at positive five millivolts."
   ]
  },
  {
   "cell_type": "code",
   "execution_count": null,
   "id": "6",
   "metadata": {},
   "outputs": [],
   "source": [
    "params[\"center\"].value = 0.005 \n",
    "params[\"center\"].vary = False\n",
    "guess_fit_result = test_edc.S.modelfit(\"eV\", model, params=params).modelfit_results.item().plot()"
   ]
  },
  {
   "cell_type": "markdown",
   "id": "7",
   "metadata": {},
   "source": [
    "## Overview of some models\n",
    "\n",
    "A number of models are already defined in lmfit including lineshapes, backgrounds, and step edges. All of these can also be easily composed to handle several lineshapes, or convolution with instrumental resolution:\n",
    "\n",
    "The below is a list defined in PyARPES\n",
    "\n",
    "* `arpes.fits.fit_models.AffineBackgroundModel`\n",
    "\n",
    "* `arpes.fits.fit_models.GStepBModel` - for a Gaussian convolved low temperature step edge\n",
    "\n",
    "* `arpes.fits.fit_models.ExponentialDecayModel`\n",
    "\n",
    "* `arpes.fits.fit_models.FermiDiracModel`\n",
    "\n",
    "* `arpes.analysis.gap.AffineBroadenedFD` - for a linear density of states with Gaussian convolved Fermi edge\n",
    "\n",
    "Adding additional models is very easy, especially if they are already part of the large library of models in `lmfit`. If you are interested, have a look at the definitions in `arpes.fits.fit_models`.\n",
    "\n",
    "Also, remember that you can combine models using standard math operators."
   ]
  },
  {
   "cell_type": "markdown",
   "id": "8",
   "metadata": {},
   "source": [
    "## Broadcasting fits\n",
    "\n",
    "While curve fitting a single EDC or MDC is useful, often we will want to repeat an analysis across some experimental parameter or variable, such as the binding energy to track a dispersion, or across temperature to understand a phase transition.\n",
    "\n",
    "Due to the xarray-lmfit package, fitting to the 2D data by the same way. \n",
    "As same as the 1D data fitting, you can use lhe `params=` keyword to enforce constraints or specify initial guesses for the fitting parameters.  Here we demonstrate performing the fitting procedure as a function of the sample temperature, and then plot the step edge location onto the data.\n",
    "\n",
    "**Note to the previous users:** `broadcast_model` is removed. If you really keep to use this, go back to Ver. 4 series.\n"
   ]
  },
  {
   "cell_type": "code",
   "execution_count": null,
   "id": "9",
   "metadata": {},
   "outputs": [],
   "source": [
    "import matplotlib.pyplot as plt\n",
    "\n",
    "temp_edcs= example_data.temperature_dependence.sel(eV=slice(-0.15, None)).sum(\"phi\").spectrum\n",
    "\n",
    "params[\"center\"].vary=True\n",
    "params[\"sigma\"].value=0.0\n",
    "params[\"sigma\"].vary = False\n",
    "\n",
    "fit_results = temp_edcs.S.modelfit(\"eV\",\n",
    "                                  model,\n",
    "                                  params=params)\n",
    "\n",
    "temp_edcs.T.plot()\n",
    "plt.scatter(fit_results.modelfit_results.F.p(\"center\").coords[\"temperature\"],\n",
    "            fit_results.modelfit_results.F.p(\"center\").values,\n",
    "            color=\"red\")"
   ]
  },
  {
   "cell_type": "markdown",
   "id": "10",
   "metadata": {},
   "source": [
    "In the above, we also used the `.F` extension to `xarray` in order to get the concrete values of the `center` fit parameter as an array. This is necessary because the result of a S.modelfit is a `Dataset` containing the full data including the original experimental one. The `modelfit_results` DataArray is itself a DataArray whose values are the full results of the fit, rather than any single of the values.\n",
    "\n",
    "**Note for the previous version user:**  After using xarray_lmfit package, `modelfit_results` plays the same role of the `results` attribute.\n",
    "\n",
    "Because of the rich information provided, PyARPES also has facilities for interacting with the results of an array of fit results more simply, furnished by the `.F` attribute.\n",
    "\n",
    "### The .F attribute\n",
    "\n",
    "You can get all the parameter names with `.parameter_names`.\n",
    "\n",
    "#### Getting fit values\n",
    "\n",
    "Using the `.F` attribute we can obtain tjhe values for (`p`) as well as the fit error of (`s`) any fit parameters we like."
   ]
  },
  {
   "cell_type": "code",
   "execution_count": null,
   "id": "11",
   "metadata": {},
   "outputs": [],
   "source": [
    "p, s = fit_results.modelfit_results.F.p(\"center\"), fit_results.modelfit_results.F.s(\"center\")\n",
    "\n",
    "fig, ax = plt.subplots()\n",
    "ax.fill_between(fit_results.temperature.values, p - s, p + s, color=\"red\", alpha=0.2)\n",
    "ax.scatter(fit_results.temperature.values, p, color=\"red\")\n",
    "\n",
    "ax.set_xlim(fit_results.temperature.values[[0, -1]])"
   ]
  },
  {
   "cell_type": "markdown",
   "id": "12",
   "metadata": {},
   "source": [
    "## Quickly plotting a fit\n",
    "\n",
    "We can also quickly plot a fit result with `plot_param`. This is sometimes useful for immediately plotting a fit result onto data or another plot sequence."
   ]
  },
  {
   "cell_type": "code",
   "execution_count": null,
   "id": "13",
   "metadata": {},
   "outputs": [],
   "source": [
    "from arpes.config import use_tex\n",
    "\n",
    "use_tex()\n",
    "fit_results.modelfit_results.F.plot_param(\"width\")"
   ]
  },
  {
   "cell_type": "markdown",
   "id": "14",
   "metadata": {},
   "source": [
    "## Introspecting fit quality\n",
    "\n",
    "Typically, you want to see the worst fits, so that you have some idea of how to refine them."
   ]
  },
  {
   "cell_type": "code",
   "execution_count": null,
   "id": "15",
   "metadata": {},
   "outputs": [],
   "source": [
    "worst_fit = fit_results.modelfit_results.F.worst_fits()[0].item() # <- Not property work after V5.0\n",
    "worst_fit_ = worst_fit.plot()"
   ]
  },
  {
   "cell_type": "markdown",
   "id": "16",
   "metadata": {},
   "source": [
    "Based on this we can say that all the fits are very good. However, we may want to see how much variation there is in quality.\n",
    "\n",
    "We can look at the `.F.mean_square_error` method for this information."
   ]
  },
  {
   "cell_type": "code",
   "execution_count": null,
   "id": "17",
   "metadata": {},
   "outputs": [],
   "source": [
    "fit_results.modelfit_results.F.mean_square_error().plot()"
   ]
  },
  {
   "cell_type": "markdown",
   "id": "18",
   "metadata": {},
   "source": [
    "## Interactively inspecting fits\n",
    "\n",
    "There's no substitute for inspecting fits by eye. PyARPES has holoviews based interactive fit inspection tools. This is very much like `profile_view` which we have already seen with the addition that the marginal shows the curve fitting information for a broadcast fit. \n",
    "\n",
    "Additionally, you can use the tool to copy any given marginal's parameters to a hint dictionary which you can pass into the curve fit\n",
    "for refinement."
   ]
  },
  {
   "cell_type": "code",
   "execution_count": null,
   "id": "19",
   "metadata": {},
   "outputs": [],
   "source": [
    "from arpes.plotting import fit_inspection\n",
    "\n",
    "# note, you can also run fit_results.F.show()\n",
    "fit_inspection(fit_results)  "
   ]
  },
  {
   "cell_type": "code",
   "execution_count": null,
   "id": "20",
   "metadata": {},
   "outputs": [],
   "source": []
  }
 ],
 "metadata": {
  "kernelspec": {
   "display_name": "Python 3 (ipykernel)",
   "language": "python",
   "name": "python3"
  },
  "language_info": {
   "codemirror_mode": {
    "name": "ipython",
    "version": 3
   },
   "file_extension": ".py",
   "mimetype": "text/x-python",
   "name": "python",
   "nbconvert_exporter": "python",
   "pygments_lexer": "ipython3",
   "version": "3.12.9"
  }
 },
 "nbformat": 4,
 "nbformat_minor": 5
}

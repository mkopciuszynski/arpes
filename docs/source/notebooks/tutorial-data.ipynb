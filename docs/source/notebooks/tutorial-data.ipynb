{
 "cells": [
  {
   "cell_type": "markdown",
   "id": "0",
   "metadata": {
    "tags": [
     "nbconvert-hide"
    ]
   },
   "source": [
    "# Tutorial data in PyARPES\n",
    "\n",
    "As of v4, PyARPES includesh seven samples of data you can use to start learning how to conduct an analysis. Realism is important in tutorials, so PyARPES includes common types of data you'll produce during experiments at synchrotrons/your lab.\n",
    "\n",
    "1. `cut`: an **Energy and momentum \"cut\"** at laser-UV photon energies across the gamma point of Bi_2Se_3.\n",
    "2. `cut2`: an **Energy and momentum \"cut\"** of two-photon photoemission spectra of Xe covered Au(111) .\n",
    "3. `map`: an **angle-angle \"map\"** at soft X-ray photon energies of a metal\n",
    "4. `map2`: an **angle-angle \"map\"** at soft X-ray photon energies of bilayer graphene on the solid.\n",
    "5. `photon_energy`: an **angle-photon energy** scan at soft X-ray energies from a metal\n",
    "6. `nano_xps`: a **scanning XPS image** at soft X-ray energies from WS2\n",
    "7. `temperature_dependence`: a **temperature resolved** ARPES cut at soft X-ray energies\n",
    "\n",
    "All samples are moderately binned to respect user's bandwidth and repository hosting constraints.\n",
    "\n",
    "If you would like to contribute a piece of sample data or want to request a particular type of data be available in future release, please let the maintainers know.\n",
    "\n",
    "Demo analyses use only these included data samples. This means you can cut-and-paste or download analysis notebooks to try them on your computer.\n",
    "\n",
    "Each analysis notebooks has a few learning exercises in a section at the end."
   ]
  },
  {
   "cell_type": "markdown",
   "id": "1",
   "metadata": {},
   "source": [
    "## Accessing tutorial data\n",
    "\n",
    "To access tutorial data here or in your notebooks, you just import `example_data` from `arpes.io`."
   ]
  },
  {
   "cell_type": "code",
   "execution_count": null,
   "id": "2",
   "metadata": {},
   "outputs": [],
   "source": [
    "import arpes\n",
    "from arpes.io import example_data\n",
    "\n",
    "bi2se3_cut = example_data.cut  # <- here, take `cut` above\n",
    "# any of `map`, `photon_energy`,\n",
    "# `nano_xps`, or\n",
    "# `temperature_dependence` will work"
   ]
  },
  {
   "cell_type": "code",
   "execution_count": null,
   "id": "3",
   "metadata": {},
   "outputs": [],
   "source": [
    "# the last line of a Jupyter cell is \"printed\", printing a\n",
    "# piece of ARPES data gives a rich representation\n",
    "bi2se3_cut"
   ]
  },
  {
   "cell_type": "code",
   "execution_count": null,
   "id": "4",
   "metadata": {},
   "outputs": [],
   "source": [
    "# just transpose to a more natural axis order with `.T` and plot\n",
    "bi2se3_cut.spectrum.T.plot()"
   ]
  },
  {
   "cell_type": "markdown",
   "id": "5",
   "metadata": {},
   "source": [
    "## Exercises\n",
    "\n",
    "### The PyARPES data model\n",
    "\n",
    "1. Look through the HTML representation of `example_data.cut`. How do the coordinates correspond to the PyARPES spectral representation?\n",
    "2. Skim the attrs section from the HTML representation of `example_data.cut`\n",
    "3. PyARPES relies on `xarray` to provide it's \"Wave\" representation, have a look at the `xarray` [documentation](https://xarray.pydata.org) to learn how to manipulate them."
   ]
  }
 ],
 "metadata": {
  "kernelspec": {
   "display_name": "Python 3 (ipykernel)",
   "language": "python",
   "name": "python3"
  },
  "language_info": {
   "codemirror_mode": {
    "name": "ipython",
    "version": 3
   },
   "file_extension": ".py",
   "mimetype": "text/x-python",
   "name": "python",
   "nbconvert_exporter": "python",
   "pygments_lexer": "ipython3",
   "version": "3.12.9"
  }
 },
 "nbformat": 4,
 "nbformat_minor": 5
}

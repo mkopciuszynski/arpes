{
 "cells": [
  {
   "cell_type": "markdown",
   "id": "0",
   "metadata": {},
   "source": [
    "# Intermediate Data Manipulation"
   ]
  },
  {
   "cell_type": "code",
   "execution_count": null,
   "id": "1",
   "metadata": {},
   "outputs": [],
   "source": [
    "import matplotlib.pyplot as plt\n",
    "\n",
    "import arpes\n",
    "from arpes.io import example_data\n",
    "\n",
    "f = example_data.cut"
   ]
  },
  {
   "cell_type": "markdown",
   "id": "2",
   "metadata": {},
   "source": [
    "## Data rebinning\n",
    "\n",
    "Frequently it makes sense to integrate in a small region around a single value of interest, or to reduce the size of a dataset uniformly along a particular axis of set of axes. Rebinning the data can be used to accomplish both:"
   ]
  },
  {
   "cell_type": "code",
   "execution_count": null,
   "id": "3",
   "metadata": {},
   "outputs": [],
   "source": [
    "from arpes.analysis.general import rebin\n",
    "\n",
    "fig, ax = plt.subplots()\n",
    "\n",
    "ax = rebin(f, phi=15).S.plot(ax=ax)"
   ]
  },
  {
   "cell_type": "markdown",
   "id": "4",
   "metadata": {},
   "source": [
    "Arguments passed into rebin after the first will be matched to dimensions on the input data. In this case, we have requested that every 12 pixels in 'phi' be rebinned into a single pixel. This reduces the size from 240x240 to 240x20. One can also rebin along multiple axes, with different granularities, simultaneously."
   ]
  },
  {
   "cell_type": "markdown",
   "id": "5",
   "metadata": {},
   "source": [
    "## Getting help\n",
    "\n",
    "Jupyter makes it convenient to get information about language and library functions, you just put a question mark after the function name. We can do this to see what information PyARPES has annotated onto `rebin` in the code"
   ]
  },
  {
   "cell_type": "code",
   "execution_count": null,
   "id": "6",
   "metadata": {},
   "outputs": [],
   "source": [
    "?rebin"
   ]
  },
  {
   "cell_type": "markdown",
   "id": "7",
   "metadata": {},
   "source": [
    "## Normalizing along an axis\n",
    "\n",
    "Another common pattern is to normalize data along an axis, so that the total intensity in each frame or slice is equal. This is relatively common in laser-ARPES in combination or as a comparison to normalization by the photocurrent. Another use case is in examining the role of matrix elements in photoemission, or in preparing data to be scaled and plotted on the same axes. `normalize_dim` can be used to normalize along one (second argument `str`) or several (second argument `[str]`) axes:"
   ]
  },
  {
   "cell_type": "code",
   "execution_count": null,
   "id": "8",
   "metadata": {},
   "outputs": [],
   "source": [
    "from arpes.preparation import normalize_dim\n",
    "\n",
    "fig, ax = plt.subplots()\n",
    "# make slices equal intensity at every energy\n",
    "ax = normalize_dim(f.spectrum, \"eV\").plot(ax=ax)"
   ]
  },
  {
   "cell_type": "markdown",
   "id": "9",
   "metadata": {},
   "source": [
    "In this case normalizing along the binding energy axis makes the surface state dispersion from room temperature photoemission off $\\text{Bi}_2\\text{Se}_3$ for a substantial energy range above the chemical potential."
   ]
  },
  {
   "cell_type": "markdown",
   "id": "10",
   "metadata": {},
   "source": [
    "## Broadcasting\n",
    "\n",
    "One simple way to achieve background subtraction is to take the mean of the data along a direction known to be a symmetry point, or a point away from dispersive intensity. In general all math operations on `xarray` instances broadcast just as you might expect if you have worked with `numpy`.\n",
    "\n",
    "In particular, this means that if we create an EDC and subtract it from a spectrum, the EDC will be subtracted from every EDC of the spectrum, uniformly across other axes. We can use this to perform a simple subtraction, here of the EDC at the Gamma point of a $\\text{Bi}_2\\text{Se}_3$ cut."
   ]
  },
  {
   "cell_type": "code",
   "execution_count": null,
   "id": "11",
   "metadata": {},
   "outputs": [],
   "source": [
    "fig, ax = plt.subplots()\n",
    "\n",
    "ax = (f - f.sel(phi=slice(0.42, 0.44)).mean(\"phi\")).S.plot(ax=ax)\n",
    "fig.set_figheight(3)"
   ]
  },
  {
   "cell_type": "markdown",
   "id": "12",
   "metadata": {},
   "source": [
    "## Smoothing\n",
    "\n",
    "There are a number of smoothing facilities included, that are essentially wrappers around those provided in `scipy.ndimage` and `scipy.signal`. More details and other kernels can be found in `arpes.analysis.filters`. Here, we smooth a cut, only along the angular axis, against a Gaussian kernel with a width of 40 mrads."
   ]
  },
  {
   "cell_type": "code",
   "execution_count": null,
   "id": "13",
   "metadata": {},
   "outputs": [],
   "source": [
    "from arpes.analysis.filters import gaussian_filter_arr\n",
    "\n",
    "fit, ax = plt.subplots()\n",
    "gaussian_filter_arr(f.spectrum, sigma={\"phi\": 0.04}).S.plot(ax=ax)\n",
    "ax.set_title(\"Smoothed by gaussian\")\n",
    "fig.set_figheight(3)\n",
    "fig.tight_layout()"
   ]
  },
  {
   "cell_type": "markdown",
   "id": "14",
   "metadata": {},
   "source": [
    "## Derivatives and Minimum Gradient/Maximum curvature\n",
    "\n",
    "Facilities for taking derivatives along specified axes can be found in `arpes.analysis.derivative`. Additionally, the [minimum gradient method](https://arxiv.org/abs/1612.07880)  and [maximum curvature](https://doi.org/10.1063/1.3585113) is supported.\n",
    "\n",
    "Here we illustrate the use of the minimum gradient after smoothing due to small statistics on sample data:"
   ]
  },
  {
   "cell_type": "code",
   "execution_count": null,
   "id": "15",
   "metadata": {},
   "outputs": [],
   "source": [
    "from arpes.analysis.derivative import minimum_gradient\n",
    "\n",
    "fig, ax = plt.subplots()\n",
    "ax = minimum_gradient(gaussian_filter_arr(f.spectrum, sigma={\"phi\": 0.01, \"eV\": 0.01})).plot(\n",
    "    vmin=0,\n",
    "    vmax=100,\n",
    ")\n",
    "\n",
    "fig.set_figheight(4)\n",
    "fig.tight_layout()"
   ]
  },
  {
   "cell_type": "markdown",
   "id": "16",
   "metadata": {},
   "source": [
    "This way shows the same result but is convenient in some case."
   ]
  },
  {
   "cell_type": "code",
   "execution_count": null,
   "id": "17",
   "metadata": {},
   "outputs": [],
   "source": [
    "import functools\n",
    "\n",
    "fig, ax = plt.subplots()\n",
    "\n",
    "smooth_fn = functools.partial(gaussian_filter_arr, sigma={\"phi\": 0.01, \"eV\": 0.01})\n",
    "ax = minimum_gradient(f.spectrum, smooth_fn=smooth_fn).plot(vmin=0, vmax=100, ax=ax)\n",
    "\n",
    "fig.set_figheight(4)\n",
    "fig.tight_layout()"
   ]
  },
  {
   "cell_type": "markdown",
   "id": "18",
   "metadata": {},
   "source": [
    "The Maximum curvature method has two types: 1D and 2D.\n",
    "\n",
    "These two below are the example of 1D maximum curvature"
   ]
  },
  {
   "cell_type": "code",
   "execution_count": null,
   "id": "19",
   "metadata": {},
   "outputs": [],
   "source": [
    "from arpes.analysis.derivative import curvature1d, curvature2d\n",
    "\n",
    "fig, ax = plt.subplots(1, 2)\n",
    "curvature1d(\n",
    "    gaussian_filter_arr(f.spectrum, sigma={\"phi\": 0.01, \"eV\": 0.01}),\n",
    "    dim=\"phi\",\n",
    "    alpha=0.01,\n",
    ").plot(ax=ax[0])\n",
    "ax[0].set_title(\"curvature 1d along phi\")\n",
    "\n",
    "curvature1d(f.spectrum, dim=\"eV\", alpha=0.1, smooth_fn=smooth_fn).plot(ax=ax[1])\n",
    "ax[1].set_title(\"curvature 1d along eV\")\n",
    "fig.set_figheight(3)\n",
    "fig.tight_layout()"
   ]
  },
  {
   "cell_type": "markdown",
   "id": "20",
   "metadata": {},
   "source": [
    "The below is the example of 2D maximum curvature"
   ]
  },
  {
   "cell_type": "code",
   "execution_count": null,
   "id": "21",
   "metadata": {},
   "outputs": [],
   "source": [
    "fig, ax = plt.subplots()\n",
    "curvature2d(f.spectrum, dims=(\"phi\", \"eV\"), alpha=0.1, weight2d=1, smooth_fn=smooth_fn).plot(ax=ax)\n",
    "ax.set_title(\"2D maximum curvature (weight2d=1)\")\n",
    "fig.set_figheight(3)"
   ]
  },
  {
   "cell_type": "markdown",
   "id": "22",
   "metadata": {},
   "source": [
    "When `weight2d` << 0, the output is essentially same as curvature1d along `eV`. "
   ]
  },
  {
   "cell_type": "code",
   "execution_count": null,
   "id": "23",
   "metadata": {},
   "outputs": [],
   "source": [
    "fig, ax = plt.subplots()\n",
    "curvature2d(f.spectrum, dims=(\"phi\", \"eV\"), alpha=0.1, weight2d=-10, smooth_fn=smooth_fn).plot(\n",
    "    ax=ax\n",
    ")\n",
    "ax.set_title(\"2D maximum curvature (weight2d<<0) \\n (Similar with 1D maximum curvature\\n along eV)\")\n",
    "fig.set_figheight(3)"
   ]
  },
  {
   "cell_type": "markdown",
   "id": "24",
   "metadata": {},
   "source": [
    "And when `weight2d` >> 0, the output is essentially same as curvature1d along `phi`."
   ]
  },
  {
   "cell_type": "code",
   "execution_count": null,
   "id": "25",
   "metadata": {},
   "outputs": [],
   "source": [
    "fig, ax = plt.subplots()\n",
    "curvature2d(f.spectrum, dims=(\"phi\", \"eV\"), alpha=0.1, weight2d=10, smooth_fn=smooth_fn).plot(ax=ax)\n",
    "\n",
    "ax.set_title(\n",
    "    \"2D maximum curvature (weight2d<<0) \\n (Similar with 1D maximum curvature\\n along phi)\"\n",
    ")\n",
    "fig.set_figheight(3)"
   ]
  }
 ],
 "metadata": {
  "kernelspec": {
   "display_name": "Python 3 (ipykernel)",
   "language": "python",
   "name": "python3"
  },
  "language_info": {
   "codemirror_mode": {
    "name": "ipython",
    "version": 3
   },
   "file_extension": ".py",
   "mimetype": "text/x-python",
   "name": "python",
   "nbconvert_exporter": "python",
   "pygments_lexer": "ipython3",
   "version": "3.12.9"
  }
 },
 "nbformat": 4,
 "nbformat_minor": 5
}
